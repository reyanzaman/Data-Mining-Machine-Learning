{
  "nbformat": 4,
  "nbformat_minor": 0,
  "metadata": {
    "colab": {
      "provenance": []
    },
    "kernelspec": {
      "name": "python3",
      "display_name": "Python 3"
    },
    "language_info": {
      "name": "python"
    }
  },
  "cells": [
    {
      "cell_type": "markdown",
      "source": [
        "2021065\n",
        "\n",
        "Khandoker Ashik Uz Zaman\n",
        "\n",
        "Assignment 2\n",
        "\n",
        "CSE425"
      ],
      "metadata": {
        "id": "3A0FhRBKEvgy"
      }
    },
    {
      "cell_type": "code",
      "source": [
        "import heapq\n",
        "\n",
        "# Get user input for the grid size, source cell, goal cells, and blocked cells\n",
        "n_rows, n_cols = map(int, input(\"Enter the number of rows and columns of the grid: \").split())\n",
        "source = tuple(map(int, input(\"Enter the coordinates of the source cell: \").split()))\n",
        "n_goals = int(input(\"Enter the number of goal cells: \"))\n",
        "goals = [tuple(map(int, input(\"Enter the coordinates of goal cell {}: \".format(i+1)).split())) for i in range(n_goals)]\n",
        "n_blocked = int(input(\"Enter the number of blocked cells: \"))\n",
        "blocked = set(tuple(map(int, input(\"Enter the coordinates of blocked cell {}: \".format(i+1)).split())) for i in range(n_blocked))\n",
        "\n",
        "# Define the Manhattan distance heuristic\n",
        "def manhattan_distance(node, goal):\n",
        "    return abs(node[0] - goal[0]) + abs(node[1] - goal[1])\n",
        "\n",
        "# Define the A* search algorithm\n",
        "def a_star_search(start, goals, blocked):\n",
        "    heap = [(0, start)]\n",
        "    visited = set()\n",
        "    parent = {}\n",
        "    while heap:\n",
        "        cost, node = heapq.heappop(heap)\n",
        "        if node in visited:\n",
        "            continue\n",
        "        visited.add(node)\n",
        "        if node in goals:\n",
        "            # Trace back the parent nodes to construct the path\n",
        "            path = []\n",
        "            while node != start:\n",
        "                path.append(node)\n",
        "                node = parent[node]\n",
        "            path.append(start)\n",
        "            return path[::-1]\n",
        "        for neighbor in [(node[0]+1, node[1]), (node[0]-1, node[1]), (node[0], node[1]+1), (node[0], node[1]-1)]:\n",
        "            if neighbor[0] < 1 or neighbor[0] > n_rows or neighbor[1] < 1 or neighbor[1] > n_cols:\n",
        "                continue\n",
        "            if neighbor in blocked or neighbor in visited:\n",
        "                continue\n",
        "            heapq.heappush(heap, (cost + manhattan_distance(neighbor, goals[0]), neighbor))\n",
        "            parent[neighbor] = node\n",
        "    return None\n",
        "\n",
        "# Find the shortest path to the closest goal location and print the path\n",
        "shortest_path = float(\"inf\")\n",
        "for goal in goals:\n",
        "    path = a_star_search(source, [goal], blocked)\n",
        "    if path is not None and len(path) < shortest_path:\n",
        "        shortest_path = len(path)\n",
        "        shortest_path_coords = path\n",
        "\n",
        "if shortest_path == float(\"inf\"):\n",
        "    print(\"No path found.\")\n",
        "else:\n",
        "    print(\"The shortest path to the closest goal location is:\", shortest_path)\n",
        "    print(\"The path is:\", shortest_path_coords)\n"
      ],
      "metadata": {
        "colab": {
          "base_uri": "https://localhost:8080/"
        },
        "id": "8DwOdpTsqqx8",
        "outputId": "dcab7215-0249-42e0-db5b-9de38236c7c1"
      },
      "execution_count": null,
      "outputs": [
        {
          "output_type": "stream",
          "name": "stdout",
          "text": [
            "Enter the number of rows and columns of the grid: 5 6\n",
            "Enter the coordinates of the source cell: 2 1\n",
            "Enter the number of goal cells: 3\n",
            "Enter the coordinates of goal cell 1:2 6\n",
            "Enter the coordinates of goal cell 2:4 3\n",
            "Enter the coordinates of goal cell 3:5 5\n",
            "Enter the number of blocked cells: 6\n",
            "Enter the coordinates of blocked cell 1:2 2\n",
            "Enter the coordinates of blocked cell 2:4 2\n",
            "Enter the coordinates of blocked cell 3:2 3\n",
            "Enter the coordinates of blocked cell 4:3 3\n",
            "Enter the coordinates of blocked cell 5:3 5\n",
            "Enter the coordinates of blocked cell 6:4 5\n",
            "The shortest path to the closest goal location is: 7\n",
            "The path is: [(2, 1), (3, 1), (4, 1), (5, 1), (5, 2), (5, 3), (4, 3)]\n"
          ]
        }
      ]
    },
    {
      "cell_type": "markdown",
      "source": [
        "Testing same code with different input"
      ],
      "metadata": {
        "id": "7pjk_B0Nr0zS"
      }
    },
    {
      "cell_type": "code",
      "source": [
        "import heapq\n",
        "\n",
        "# Get user input for the grid size, source cell, goal cells, and blocked cells\n",
        "n_rows, n_cols = map(int, input(\"Enter the number of rows and columns of the grid: \").split())\n",
        "source = tuple(map(int, input(\"Enter the coordinates of the source cell: \").split()))\n",
        "n_goals = int(input(\"Enter the number of goal cells: \"))\n",
        "goals = [tuple(map(int, input(\"Enter the coordinates of goal cell {}:\".format(i+1)).split())) for i in range(n_goals)]\n",
        "n_blocked = int(input(\"Enter the number of blocked cells: \"))\n",
        "blocked = set(tuple(map(int, input(\"Enter the coordinates of blocked cell {}:\".format(i+1)).split())) for i in range(n_blocked))\n",
        "\n",
        "# Define the Manhattan distance heuristic\n",
        "def manhattan_distance(node, goal):\n",
        "    return abs(node[0] - goal[0]) + abs(node[1] - goal[1])\n",
        "\n",
        "# Define the A* search algorithm\n",
        "# Define the A* search algorithm\n",
        "def a_star_search(start, goals, blocked):\n",
        "    heap = [(0, start)]\n",
        "    visited = set()\n",
        "    parent = {}\n",
        "    while heap:\n",
        "        cost, node = heapq.heappop(heap)\n",
        "        if node in visited:\n",
        "            continue\n",
        "        visited.add(node)\n",
        "        if node in goals:\n",
        "            # Trace back the parent nodes to construct the path\n",
        "            path = []\n",
        "            while node != start:\n",
        "                path.append(node)\n",
        "                node = parent[node]\n",
        "            path.append(start)\n",
        "            return path[::-1]\n",
        "        for neighbor in [(node[0]+1, node[1]), (node[0]-1, node[1]), (node[0], node[1]+1), (node[0], node[1]-1)]:\n",
        "            if neighbor[0] < 1 or neighbor[0] > n_rows or neighbor[1] < 1 or neighbor[1] > n_cols:\n",
        "                continue\n",
        "            if neighbor in blocked or neighbor in visited:\n",
        "                continue\n",
        "            heapq.heappush(heap, (cost + manhattan_distance(neighbor, goals[0]), neighbor))\n",
        "            parent[neighbor] = node\n",
        "    return None\n",
        "\n",
        "# Find the shortest path to the closest goal location and print the path\n",
        "shortest_path = float(\"inf\")\n",
        "for goal in goals:\n",
        "    path = a_star_search(source, [goal], blocked)\n",
        "    if path is not None and len(path) < shortest_path:\n",
        "        shortest_path = len(path)\n",
        "        shortest_path_coords = path\n",
        "\n",
        "if shortest_path == float(\"inf\"):\n",
        "    print(\"No path found.\")\n",
        "else:\n",
        "    print(\"The shortest path to the closest goal location is:\", shortest_path)\n",
        "    print(\"The path is:\", shortest_path_coords)\n"
      ],
      "metadata": {
        "colab": {
          "base_uri": "https://localhost:8080/"
        },
        "id": "m_S470oVr3Hi",
        "outputId": "cf30d7f9-0f78-4183-dbe7-839783661564"
      },
      "execution_count": null,
      "outputs": [
        {
          "output_type": "stream",
          "name": "stdout",
          "text": [
            "Enter the number of rows and columns of the grid: 8 8\n",
            "Enter the coordinates of the source cell: 5 4\n",
            "Enter the number of goal cells: 3\n",
            "Enter the coordinates of goal cell 1:4 6\n",
            "Enter the coordinates of goal cell 2:6 3\n",
            "Enter the coordinates of goal cell 3:8 8\n",
            "Enter the number of blocked cells: 11\n",
            "Enter the coordinates of blocked cell 1:7 7\n",
            "Enter the coordinates of blocked cell 2:7 5\n",
            "Enter the coordinates of blocked cell 3:7 3\n",
            "Enter the coordinates of blocked cell 4:6 2\n",
            "Enter the coordinates of blocked cell 5:6 4\n",
            "Enter the coordinates of blocked cell 6:6 6\n",
            "Enter the coordinates of blocked cell 7:5 3\n",
            "Enter the coordinates of blocked cell 8:5 5\n",
            "Enter the coordinates of blocked cell 9:4 5\n",
            "Enter the coordinates of blocked cell 10:4 7\n",
            "Enter the coordinates of blocked cell 11:3 6\n",
            "The shortest path to the closest goal location is: 14\n",
            "The path is: [(5, 4), (4, 4), (3, 4), (2, 4), (2, 5), (2, 6), (2, 7), (2, 8), (3, 8), (4, 8), (5, 8), (5, 7), (5, 6), (4, 6)]\n"
          ]
        }
      ]
    }
  ]
}