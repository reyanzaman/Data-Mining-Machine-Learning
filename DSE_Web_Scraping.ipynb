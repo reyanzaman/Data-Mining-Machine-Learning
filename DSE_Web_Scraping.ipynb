{
  "nbformat": 4,
  "nbformat_minor": 0,
  "metadata": {
    "colab": {
      "provenance": []
    },
    "kernelspec": {
      "name": "python3",
      "display_name": "Python 3"
    },
    "language_info": {
      "name": "python"
    }
  },
  "cells": [
    {
      "cell_type": "code",
      "source": [
        "!pip install schedule"
      ],
      "metadata": {
        "colab": {
          "base_uri": "https://localhost:8080/"
        },
        "id": "K3So7DZ6bb9I",
        "outputId": "e826890e-1f9e-49ea-b02f-91a07b5e1bfc"
      },
      "execution_count": null,
      "outputs": [
        {
          "output_type": "stream",
          "name": "stdout",
          "text": [
            "Looking in indexes: https://pypi.org/simple, https://us-python.pkg.dev/colab-wheels/public/simple/\n",
            "Collecting schedule\n",
            "  Downloading schedule-1.2.0-py2.py3-none-any.whl (11 kB)\n",
            "Installing collected packages: schedule\n",
            "Successfully installed schedule-1.2.0\n"
          ]
        }
      ]
    },
    {
      "cell_type": "code",
      "execution_count": null,
      "metadata": {
        "colab": {
          "base_uri": "https://localhost:8080/"
        },
        "id": "LfASo8mlaO2W",
        "outputId": "9fe768e9-31d9-48b5-dd46-46203d683d19",
        "cellView": "form"
      },
      "outputs": [
        {
          "output_type": "stream",
          "name": "stdout",
          "text": [
            "Fetching Data\n",
            "Fetching Data\n",
            "Fetching Data\n",
            "Fetching Data\n",
            "Fetching Data\n",
            "Fetching Data\n",
            "Fetching Data\n",
            "Fetching Data\n",
            "Displaying Data\n"
          ]
        }
      ],
      "source": [
        "#@title schedule\n",
        "import schedule\n",
        "import time\n",
        "from datetime import datetime\n",
        "import pytz\n",
        "\n",
        "end_time = \"23:51\"  # 24-hour format time\n",
        "\n",
        "def fetch_data():\n",
        "    print(\"Fetching Data\")\n",
        "\n",
        "def display_data():\n",
        "    print(\"Displaying Data\")\n",
        "\n",
        "def job():\n",
        "    current_time = datetime.now(pytz.timezone('Asia/Dhaka')).strftime(\"%H:%M\")  # Set the timezone to 'Asia/Dhaka'\n",
        "    if current_time == end_time:\n",
        "        display_data()\n",
        "        schedule.clear()  # Clear all scheduled jobs\n",
        "        global should_stop\n",
        "        should_stop = True\n",
        "    else:\n",
        "        fetch_data()\n",
        "\n",
        "#-------------------------------------------------------------------------------------------------------------------\n",
        "\n",
        "#Driver Code\n",
        "\n",
        "interval = 5  # Schedule the job every 5 seconds\n",
        "schedule.every(interval).seconds.do(job)\n",
        "\n",
        "should_stop = False\n",
        "\n",
        "while not should_stop:\n",
        "    schedule.run_pending()\n",
        "    time.sleep(1)"
      ]
    },
    {
      "cell_type": "code",
      "source": [
        "pip install beautifulsoup4"
      ],
      "metadata": {
        "colab": {
          "base_uri": "https://localhost:8080/"
        },
        "id": "HTrqOwgNB1CU",
        "outputId": "2878bca6-49cb-4780-f807-c06f92571c5d"
      },
      "execution_count": null,
      "outputs": [
        {
          "output_type": "stream",
          "name": "stdout",
          "text": [
            "Looking in indexes: https://pypi.org/simple, https://us-python.pkg.dev/colab-wheels/public/simple/\n",
            "Requirement already satisfied: beautifulsoup4 in /usr/local/lib/python3.10/dist-packages (4.11.2)\n",
            "Requirement already satisfied: soupsieve>1.2 in /usr/local/lib/python3.10/dist-packages (from beautifulsoup4) (2.4.1)\n"
          ]
        }
      ]
    },
    {
      "cell_type": "code",
      "source": [
        "#@title Beautiful SOup\n",
        "import requests\n",
        "from bs4 import BeautifulSoup\n",
        "\n",
        "url = \"https://www.dsebd.org/displayCompany.php?name=AAMRANET\"\n",
        "response = requests.get(url)\n",
        "\n",
        "soup = BeautifulSoup(response.content, 'html.parser')\n",
        "\n",
        "# Find the table with id=\"company\"\n",
        "table = soup.find('table', id='company')\n",
        "\n",
        "# Find all the <strong> tags within the table\n",
        "data_header = table.find_all('th')\n",
        "\n",
        "# Process the extrtacted data\n",
        "for data in data_header:\n",
        "    print(data.text)"
      ],
      "metadata": {
        "colab": {
          "base_uri": "https://localhost:8080/"
        },
        "id": "jqKq2H8sB2JR",
        "outputId": "a3158d41-9956-43de-ed82-4e593e2f5779",
        "cellView": "form"
      },
      "execution_count": null,
      "outputs": [
        {
          "output_type": "stream",
          "name": "stdout",
          "text": [
            "Trading Code: AAMRANET\n",
            "Scrip Code: 22649\n"
          ]
        }
      ]
    },
    {
      "cell_type": "code",
      "source": [
        "#@title Basic Scraping\n",
        "base_url = \"https://www.dsebd.org/latest_share_price_scroll_by_value.php\"\n",
        "response = requests.get(base_url)\n",
        "\n",
        "soup = BeautifulSoup(response.content, 'html.parser')\n",
        "\n",
        "data = soup.find_all('a', class_=\"ab1\")\n",
        "name_list = []\n",
        "\n",
        "for names in data:\n",
        "  name_list.append(names.text.strip())\n",
        "\n",
        "for i in range(len(name_list)):\n",
        "  new_url = \"https://www.dsebd.org/displayCompany.php?name=\" + name_list[i]\n",
        "  response = requests.get(new_url)\n",
        "  soup = BeautifulSoup(response.content, 'html.parser')\n",
        "\n",
        "  # Find the table with id=\"company\"\n",
        "  table = soup.find('table', id='company')\n",
        "\n",
        "  # Find all the <strong> tags within the table\n",
        "  data_header = table.find_all('th')\n",
        "\n",
        "  # Process the extrtacted data\n",
        "  for data in data_header:\n",
        "    print(data.text)"
      ],
      "metadata": {
        "id": "6KwNJgnpJlbS",
        "cellView": "form"
      },
      "execution_count": null,
      "outputs": []
    },
    {
      "cell_type": "code",
      "source": [
        "import re\n",
        "\n",
        "url = \"https://www.dsebd.org/displayCompany.php?name=AAMRANET\"\n",
        "response = requests.get(url)\n",
        "soup = BeautifulSoup(response.content, 'html.parser')\n",
        "\n",
        "table = soup.find_all('table', width='100%', cellpadding='5', cellspacing='0')\n",
        "\n",
        "Percent_June = table[0]\n",
        "Percent_April = table[1]\n",
        "Percent_May = table[2]\n",
        "\n",
        "def remove_spaces(text):\n",
        "  text_without_spaces = text.get_text(separator=' ').replace('\\n', '').replace('\\r', '').replace('\\t', '').replace('\\xa0', '')\n",
        "  text = re.sub(r'\\s+', ' ', text_without_spaces).strip()\n",
        "  return text\n",
        "\n",
        "\n",
        "#June\n",
        "print(\"Share Holding Percentage [as on Jun 30, 2022 (year ended)]\")\n",
        "sponsor_june = remove_spaces(Percent_June.find('td', width=\"27%\"))\n",
        "print(sponsor_june)\n",
        "\n",
        "govt_june = remove_spaces(Percent_June.find('td', width=\"16%\"))\n",
        "print(govt_june)\n",
        "\n",
        "inst_june = remove_spaces(Percent_June.find('td', width=\"20%\"))\n",
        "print(inst_june)\n",
        "\n",
        "foreign_june = remove_spaces(Percent_June.find('td', width=\"19%\"))\n",
        "print(foreign_june)\n",
        "\n",
        "public_june = remove_spaces(Percent_June.find('td', width=\"18%\"))\n",
        "print(public_june)\n",
        "\n",
        "print()\n",
        "#April\n",
        "print(\"Share Holding Percentage [as on Apr 30, 2023]\")\n",
        "sponsor_april = remove_spaces(Percent_April.find('td', width=\"27%\"))\n",
        "print(sponsor_april)\n",
        "\n",
        "govt_april = remove_spaces(Percent_April.find('td', width=\"16%\"))\n",
        "print(govt_april)\n",
        "\n",
        "inst_april = remove_spaces(Percent_April.find('td', width=\"20%\"))\n",
        "print(inst_april)\n",
        "\n",
        "foreign_april = remove_spaces(Percent_April.find('td', width=\"19%\"))\n",
        "print(foreign_april)\n",
        "\n",
        "public_april = remove_spaces(Percent_April.find('td', width=\"18%\"))\n",
        "print(public_april)\n",
        "\n",
        "print()\n",
        "#May\n",
        "print(\"Share Holding Percentage [as on May 31, 2023]\")\n",
        "sponsor_may = remove_spaces(Percent_May.find('td', width=\"27%\"))\n",
        "print(sponsor_may)\n",
        "\n",
        "govt_may = remove_spaces(Percent_May.find('td', width=\"16%\"))\n",
        "print(govt_may)\n",
        "\n",
        "inst_may = remove_spaces(Percent_May.find('td', width=\"20%\"))\n",
        "print(inst_may)\n",
        "\n",
        "foreign_may = remove_spaces(Percent_May.find('td', width=\"19%\"))\n",
        "print(foreign_may)\n",
        "\n",
        "public_may = remove_spaces(Percent_May.find('td', width=\"18%\"))\n",
        "print(public_may)"
      ],
      "metadata": {
        "colab": {
          "base_uri": "https://localhost:8080/"
        },
        "id": "3g3kyo9Ct7Jh",
        "outputId": "9eec3cb7-721f-413e-ea39-f539885372f1"
      },
      "execution_count": null,
      "outputs": [
        {
          "output_type": "stream",
          "name": "stdout",
          "text": [
            "Share Holding Percentage [as on Jun 30, 2022 (year ended)]\n",
            "Sponsor/Director: 33.04\n",
            "Govt: 0.00\n",
            "Institute: 28.73\n",
            "Foreign: 0.00\n",
            "Public: 38.23\n",
            "\n",
            "Share Holding Percentage [as on Apr 30, 2023]\n",
            "Sponsor/Director: 33.04\n",
            "Govt: 0.00\n",
            "Institute: 20.15\n",
            "Foreign: 0.00\n",
            "Public: 46.81\n",
            "\n",
            "Share Holding Percentage [as on May 31, 2023]\n",
            "Sponsor/Director: 33.04\n",
            "Govt: 0.00\n",
            "Institute: 21.69\n",
            "Foreign: 0.00\n",
            "Public: 45.27\n"
          ]
        }
      ]
    }
  ]
}